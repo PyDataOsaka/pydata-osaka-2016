{
 "cells": [
  {
   "cell_type": "code",
   "execution_count": 1,
   "metadata": {
    "collapsed": true
   },
   "outputs": [],
   "source": [
    "import pandas as pd"
   ]
  },
  {
   "cell_type": "code",
   "execution_count": 7,
   "metadata": {
    "collapsed": true
   },
   "outputs": [],
   "source": [
    "%matplotlib inline"
   ]
  },
  {
   "cell_type": "code",
   "execution_count": 3,
   "metadata": {
    "collapsed": false
   },
   "outputs": [],
   "source": [
    "a = pd.read_csv(\"https://raw.githubusercontent.com/PyDataOsaka/pydata-osaka-2016/master/meetup1/survey.csv\", header = None)"
   ]
  },
  {
   "cell_type": "code",
   "execution_count": 59,
   "metadata": {
    "collapsed": false
   },
   "outputs": [
    {
     "data": {
      "text/html": [
       "<div>\n",
       "<table border=\"1\" class=\"dataframe\">\n",
       "  <thead>\n",
       "    <tr style=\"text-align: right;\">\n",
       "      <th></th>\n",
       "      <th>0</th>\n",
       "      <th>1</th>\n",
       "      <th>2</th>\n",
       "      <th>3</th>\n",
       "    </tr>\n",
       "  </thead>\n",
       "  <tbody>\n",
       "    <tr>\n",
       "      <th>0</th>\n",
       "      <td>Q1</td>\n",
       "      <td>どこからいらっしゃいましたか?</td>\n",
       "      <td>大阪</td>\n",
       "      <td>9</td>\n",
       "    </tr>\n",
       "    <tr>\n",
       "      <th>1</th>\n",
       "      <td>Q1</td>\n",
       "      <td>どこからいらっしゃいましたか?</td>\n",
       "      <td>京都</td>\n",
       "      <td>7</td>\n",
       "    </tr>\n",
       "    <tr>\n",
       "      <th>2</th>\n",
       "      <td>Q1</td>\n",
       "      <td>どこからいらっしゃいましたか?</td>\n",
       "      <td>兵庫</td>\n",
       "      <td>4</td>\n",
       "    </tr>\n",
       "    <tr>\n",
       "      <th>3</th>\n",
       "      <td>Q1</td>\n",
       "      <td>どこからいらっしゃいましたか?</td>\n",
       "      <td>奈良</td>\n",
       "      <td>1</td>\n",
       "    </tr>\n",
       "    <tr>\n",
       "      <th>4</th>\n",
       "      <td>Q2</td>\n",
       "      <td>PyData.Osakaで取り上げたいtool, theme</td>\n",
       "      <td>Jupyter</td>\n",
       "      <td>20</td>\n",
       "    </tr>\n",
       "    <tr>\n",
       "      <th>5</th>\n",
       "      <td>Q2</td>\n",
       "      <td>PyData.Osakaで取り上げたいtool, theme</td>\n",
       "      <td>Viz一般</td>\n",
       "      <td>15</td>\n",
       "    </tr>\n",
       "    <tr>\n",
       "      <th>6</th>\n",
       "      <td>Q2</td>\n",
       "      <td>PyData.Osakaで取り上げたいtool, theme</td>\n",
       "      <td>pymc stan</td>\n",
       "      <td>13</td>\n",
       "    </tr>\n",
       "    <tr>\n",
       "      <th>7</th>\n",
       "      <td>Q2</td>\n",
       "      <td>PyData.Osakaで取り上げたいtool, theme</td>\n",
       "      <td>deep learning</td>\n",
       "      <td>13</td>\n",
       "    </tr>\n",
       "    <tr>\n",
       "      <th>8</th>\n",
       "      <td>Q2</td>\n",
       "      <td>PyData.Osakaで取り上げたいtool, theme</td>\n",
       "      <td>scikit-learn</td>\n",
       "      <td>11</td>\n",
       "    </tr>\n",
       "    <tr>\n",
       "      <th>9</th>\n",
       "      <td>Q2</td>\n",
       "      <td>PyData.Osakaで取り上げたいtool, theme</td>\n",
       "      <td>statsmodels</td>\n",
       "      <td>10</td>\n",
       "    </tr>\n",
       "    <tr>\n",
       "      <th>10</th>\n",
       "      <td>Q2</td>\n",
       "      <td>PyData.Osakaで取り上げたいtool, theme</td>\n",
       "      <td>pyarrow dask 大規模データ</td>\n",
       "      <td>9</td>\n",
       "    </tr>\n",
       "    <tr>\n",
       "      <th>11</th>\n",
       "      <td>Q2</td>\n",
       "      <td>PyData.Osakaで取り上げたいtool, theme</td>\n",
       "      <td>dataframe, sql, 前処理</td>\n",
       "      <td>7</td>\n",
       "    </tr>\n",
       "    <tr>\n",
       "      <th>12</th>\n",
       "      <td>Q2</td>\n",
       "      <td>PyData.Osakaで取り上げたいtool, theme</td>\n",
       "      <td>spark</td>\n",
       "      <td>5</td>\n",
       "    </tr>\n",
       "    <tr>\n",
       "      <th>13</th>\n",
       "      <td>Q3</td>\n",
       "      <td>使う programming 言語</td>\n",
       "      <td>Python</td>\n",
       "      <td>19</td>\n",
       "    </tr>\n",
       "    <tr>\n",
       "      <th>14</th>\n",
       "      <td>Q3</td>\n",
       "      <td>使う programming 言語</td>\n",
       "      <td>C++</td>\n",
       "      <td>12</td>\n",
       "    </tr>\n",
       "    <tr>\n",
       "      <th>15</th>\n",
       "      <td>Q3</td>\n",
       "      <td>使う programming 言語</td>\n",
       "      <td>SQL</td>\n",
       "      <td>7</td>\n",
       "    </tr>\n",
       "    <tr>\n",
       "      <th>16</th>\n",
       "      <td>Q3</td>\n",
       "      <td>使う programming 言語</td>\n",
       "      <td>Javascript</td>\n",
       "      <td>6</td>\n",
       "    </tr>\n",
       "    <tr>\n",
       "      <th>17</th>\n",
       "      <td>Q3</td>\n",
       "      <td>使う programming 言語</td>\n",
       "      <td>Ruby</td>\n",
       "      <td>5</td>\n",
       "    </tr>\n",
       "    <tr>\n",
       "      <th>18</th>\n",
       "      <td>Q3</td>\n",
       "      <td>使う programming 言語</td>\n",
       "      <td>R</td>\n",
       "      <td>4</td>\n",
       "    </tr>\n",
       "    <tr>\n",
       "      <th>19</th>\n",
       "      <td>Q3</td>\n",
       "      <td>使う programming 言語</td>\n",
       "      <td>Julia</td>\n",
       "      <td>4</td>\n",
       "    </tr>\n",
       "    <tr>\n",
       "      <th>20</th>\n",
       "      <td>Q3</td>\n",
       "      <td>使う programming 言語</td>\n",
       "      <td>SAS</td>\n",
       "      <td>3</td>\n",
       "    </tr>\n",
       "    <tr>\n",
       "      <th>21</th>\n",
       "      <td>Q3</td>\n",
       "      <td>使う programming 言語</td>\n",
       "      <td>Excel</td>\n",
       "      <td>3</td>\n",
       "    </tr>\n",
       "    <tr>\n",
       "      <th>22</th>\n",
       "      <td>Q4</td>\n",
       "      <td>使う 可視化tool</td>\n",
       "      <td>matplotlib</td>\n",
       "      <td>12</td>\n",
       "    </tr>\n",
       "    <tr>\n",
       "      <th>23</th>\n",
       "      <td>Q4</td>\n",
       "      <td>使う 可視化tool</td>\n",
       "      <td>D3</td>\n",
       "      <td>11</td>\n",
       "    </tr>\n",
       "    <tr>\n",
       "      <th>24</th>\n",
       "      <td>Q4</td>\n",
       "      <td>使う 可視化tool</td>\n",
       "      <td>ggplot</td>\n",
       "      <td>3</td>\n",
       "    </tr>\n",
       "    <tr>\n",
       "      <th>25</th>\n",
       "      <td>Q4</td>\n",
       "      <td>使う 可視化tool</td>\n",
       "      <td>bokeh</td>\n",
       "      <td>2</td>\n",
       "    </tr>\n",
       "    <tr>\n",
       "      <th>26</th>\n",
       "      <td>Q4</td>\n",
       "      <td>使う 可視化tool</td>\n",
       "      <td>shiny</td>\n",
       "      <td>1</td>\n",
       "    </tr>\n",
       "  </tbody>\n",
       "</table>\n",
       "</div>"
      ],
      "text/plain": [
       "     0                               1                    2   3\n",
       "0   Q1                 どこからいらっしゃいましたか?                   大阪   9\n",
       "1   Q1                 どこからいらっしゃいましたか?                   京都   7\n",
       "2   Q1                 どこからいらっしゃいましたか?                   兵庫   4\n",
       "3   Q1                 どこからいらっしゃいましたか?                   奈良   1\n",
       "4   Q2  PyData.Osakaで取り上げたいtool, theme              Jupyter  20\n",
       "5   Q2  PyData.Osakaで取り上げたいtool, theme                Viz一般  15\n",
       "6   Q2  PyData.Osakaで取り上げたいtool, theme            pymc stan  13\n",
       "7   Q2  PyData.Osakaで取り上げたいtool, theme        deep learning  13\n",
       "8   Q2  PyData.Osakaで取り上げたいtool, theme         scikit-learn  11\n",
       "9   Q2  PyData.Osakaで取り上げたいtool, theme          statsmodels  10\n",
       "10  Q2  PyData.Osakaで取り上げたいtool, theme  pyarrow dask 大規模データ   9\n",
       "11  Q2  PyData.Osakaで取り上げたいtool, theme  dataframe, sql, 前処理   7\n",
       "12  Q2  PyData.Osakaで取り上げたいtool, theme                spark   5\n",
       "13  Q3               使う programming 言語               Python  19\n",
       "14  Q3               使う programming 言語                  C++  12\n",
       "15  Q3               使う programming 言語                  SQL   7\n",
       "16  Q3               使う programming 言語           Javascript   6\n",
       "17  Q3               使う programming 言語                 Ruby   5\n",
       "18  Q3               使う programming 言語                    R   4\n",
       "19  Q3               使う programming 言語                Julia   4\n",
       "20  Q3               使う programming 言語                  SAS   3\n",
       "21  Q3               使う programming 言語                Excel   3\n",
       "22  Q4                      使う 可視化tool           matplotlib  12\n",
       "23  Q4                      使う 可視化tool                   D3  11\n",
       "24  Q4                      使う 可視化tool               ggplot   3\n",
       "25  Q4                      使う 可視化tool                bokeh   2\n",
       "26  Q4                      使う 可視化tool                shiny   1"
      ]
     },
     "execution_count": 59,
     "metadata": {},
     "output_type": "execute_result"
    }
   ],
   "source": [
    "a"
   ]
  },
  {
   "cell_type": "code",
   "execution_count": 9,
   "metadata": {
    "collapsed": false
   },
   "outputs": [],
   "source": [
    "wfrom = a[a[0] == \"Q1\"]"
   ]
  },
  {
   "cell_type": "code",
   "execution_count": 61,
   "metadata": {
    "collapsed": false
   },
   "outputs": [
    {
     "data": {
      "text/plain": [
       "'どこからいらっしゃいましたか?'"
      ]
     },
     "execution_count": 61,
     "metadata": {},
     "output_type": "execute_result"
    }
   ],
   "source": [
    "wfrom[1][1]"
   ]
  },
  {
   "cell_type": "code",
   "execution_count": 64,
   "metadata": {
    "collapsed": false
   },
   "outputs": [
    {
     "data": {
      "text/plain": [
       "<matplotlib.axes._subplots.AxesSubplot at 0x2a5eb48d3c8>"
      ]
     },
     "execution_count": 64,
     "metadata": {},
     "output_type": "execute_result"
    },
    {
     "data": {
      "image/png": "[encoded data removed]",
      "text/plain": [
       "<matplotlib.figure.Figure at 0x2a5ec461f98>"
      ]
     },
     "metadata": {},
     "output_type": "display_data"
    }
   ],
   "source": [
    "wfrom[3].rename(index=wfrom[2]).plot(kind='bar', title=wfrom[1][1])"
   ]
  },
  {
   "cell_type": "code",
   "execution_count": 73,
   "metadata": {
    "collapsed": false
   },
   "outputs": [],
   "source": [
    "tools = a[a[0] == \"Q2\"]"
   ]
  },
  {
   "cell_type": "code",
   "execution_count": 77,
   "metadata": {
    "collapsed": false
   },
   "outputs": [
    {
     "data": {
      "text/plain": [
       "'PyData.Osakaで取り上げたいtool, theme'"
      ]
     },
     "execution_count": 77,
     "metadata": {},
     "output_type": "execute_result"
    }
   ],
   "source": [
    "tools[1][4]"
   ]
  },
  {
   "cell_type": "code",
   "execution_count": 81,
   "metadata": {
    "collapsed": false
   },
   "outputs": [
    {
     "data": {
      "text/plain": [
       "<matplotlib.axes._subplots.AxesSubplot at 0x2a5ec596f98>"
      ]
     },
     "execution_count": 81,
     "metadata": {},
     "output_type": "execute_result"
    },
    {
     "data": {
      "image/png": "[encoded data removed]",
      "text/plain": [
       "<matplotlib.figure.Figure at 0x2a5ec59b470>"
      ]
     },
     "metadata": {},
     "output_type": "display_data"
    }
   ],
   "source": [
    "tools[3].rename(index=tools[2]).plot(kind='bar', title=tools[1][4])"
   ]
  },
  {
   "cell_type": "code",
   "execution_count": 82,
   "metadata": {
    "collapsed": true
   },
   "outputs": [],
   "source": [
    "plang = a[a[0] == \"Q3\"]"
   ]
  },
  {
   "cell_type": "code",
   "execution_count": 84,
   "metadata": {
    "collapsed": false
   },
   "outputs": [
    {
     "data": {
      "text/plain": [
       "'使う programming 言語'"
      ]
     },
     "execution_count": 84,
     "metadata": {},
     "output_type": "execute_result"
    }
   ],
   "source": [
    "plang[1][13]"
   ]
  },
  {
   "cell_type": "code",
   "execution_count": 86,
   "metadata": {
    "collapsed": false
   },
   "outputs": [
    {
     "data": {
      "text/plain": [
       "<matplotlib.axes._subplots.AxesSubplot at 0x2a5ec6769e8>"
      ]
     },
     "execution_count": 86,
     "metadata": {},
     "output_type": "execute_result"
    },
    {
     "data": {
      "image/png": "[encoded data removed]",
      "text/plain": [
       "<matplotlib.figure.Figure at 0x2a5ec6c7ac8>"
      ]
     },
     "metadata": {},
     "output_type": "display_data"
    }
   ],
   "source": [
    "plang[3].rename(index=plang[2]).plot(kind='bar', title=plang[1][13])"
   ]
  },
  {
   "cell_type": "code",
   "execution_count": 87,
   "metadata": {
    "collapsed": true
   },
   "outputs": [],
   "source": [
    "viztool = a[a[0] == \"Q4\"]"
   ]
  },
  {
   "cell_type": "code",
   "execution_count": 89,
   "metadata": {
    "collapsed": false
   },
   "outputs": [
    {
     "data": {
      "text/plain": [
       "'使う 可視化tool'"
      ]
     },
     "execution_count": 89,
     "metadata": {},
     "output_type": "execute_result"
    }
   ],
   "source": [
    "viztool[1][22]"
   ]
  },
  {
   "cell_type": "code",
   "execution_count": 91,
   "metadata": {
    "collapsed": false
   },
   "outputs": [
    {
     "data": {
      "text/plain": [
       "<matplotlib.axes._subplots.AxesSubplot at 0x2a5ec775828>"
      ]
     },
     "execution_count": 91,
     "metadata": {},
     "output_type": "execute_result"
    },
    {
     "data": {
      "image/png": "[encoded data removed]",
      "text/plain": [
       "<matplotlib.figure.Figure at 0x2a5ec77c1d0>"
      ]
     },
     "metadata": {},
     "output_type": "display_data"
    }
   ],
   "source": [
    "viztool[3].rename(index=viztool[2]).plot(kind='bar', title=viztool[1][22])"
   ]
  },
  {
   "cell_type": "code",
   "execution_count": null,
   "metadata": {
    "collapsed": true
   },
   "outputs": [],
   "source": []
  }
 ],
 "metadata": {
  "anaconda-cloud": {},
  "kernelspec": {
   "display_name": "Python [default]",
   "language": "python",
   "name": "python3"
  },
  "language_info": {
   "codemirror_mode": {
    "name": "ipython",
    "version": 3
   },
   "file_extension": ".py",
   "mimetype": "text/x-python",
   "name": "python",
   "nbconvert_exporter": "python",
   "pygments_lexer": "ipython3",
   "version": "3.5.2"
  }
 },
 "nbformat": 4,
 "nbformat_minor": 0
}
